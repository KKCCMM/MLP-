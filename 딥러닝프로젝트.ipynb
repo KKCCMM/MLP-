{
  "nbformat": 4,
  "nbformat_minor": 0,
  "metadata": {
    "colab": {
      "provenance": [],
      "gpuType": "T4"
    },
    "kernelspec": {
      "name": "python3",
      "display_name": "Python 3"
    },
    "language_info": {
      "name": "python"
    },
    "accelerator": "GPU"
  },
  "cells": [
    {
      "cell_type": "code",
      "source": [
        "import tensorflow as tf\n",
        "\n",
        "# Helper libraries\n",
        "import numpy as np\n",
        "import matplotlib.pyplot as plt\n",
        "\n",
        "print(tf.__version__)\n",
        "\n",
        "fashion_mnist = tf.keras.datasets.fashion_mnist\n",
        "\n",
        "(x_train, t_train), (x_test, t_test) = fashion_mnist.load_data()"
      ],
      "metadata": {
        "id": "hiBJ8BsuazO_",
        "colab": {
          "base_uri": "https://localhost:8080/"
        },
        "outputId": "59af8944-428c-4d36-f55a-6ea1dee98725"
      },
      "execution_count": null,
      "outputs": [
        {
          "output_type": "stream",
          "name": "stdout",
          "text": [
            "2.14.0\n",
            "Downloading data from https://storage.googleapis.com/tensorflow/tf-keras-datasets/train-labels-idx1-ubyte.gz\n",
            "29515/29515 [==============================] - 0s 0us/step\n",
            "Downloading data from https://storage.googleapis.com/tensorflow/tf-keras-datasets/train-images-idx3-ubyte.gz\n",
            "26421880/26421880 [==============================] - 0s 0us/step\n",
            "Downloading data from https://storage.googleapis.com/tensorflow/tf-keras-datasets/t10k-labels-idx1-ubyte.gz\n",
            "5148/5148 [==============================] - 0s 0us/step\n",
            "Downloading data from https://storage.googleapis.com/tensorflow/tf-keras-datasets/t10k-images-idx3-ubyte.gz\n",
            "4422102/4422102 [==============================] - 0s 0us/step\n"
          ]
        }
      ]
    },
    {
      "cell_type": "code",
      "source": [
        "print(x_train.shape)"
      ],
      "metadata": {
        "colab": {
          "base_uri": "https://localhost:8080/"
        },
        "id": "QThvVDBgu3N7",
        "outputId": "f0e37d04-413d-4b47-c0ee-2a7a7836f6f4"
      },
      "execution_count": null,
      "outputs": [
        {
          "output_type": "stream",
          "name": "stdout",
          "text": [
            "(60000, 28, 28)\n"
          ]
        }
      ]
    },
    {
      "cell_type": "code",
      "source": [
        "from google.colab import drive\n",
        "drive.mount('/content/drive/')"
      ],
      "metadata": {
        "colab": {
          "base_uri": "https://localhost:8080/"
        },
        "id": "bUS_BEUYND9p",
        "outputId": "caf88d55-80e0-47cc-8d59-14bcc8ba37c5"
      },
      "execution_count": null,
      "outputs": [
        {
          "output_type": "stream",
          "name": "stdout",
          "text": [
            "Drive already mounted at /content/drive/; to attempt to forcibly remount, call drive.mount(\"/content/drive/\", force_remount=True).\n"
          ]
        }
      ]
    },
    {
      "cell_type": "code",
      "source": [
        "from drive.MyDrive.common.optimizer import *\n",
        "from drive.MyDrive.common.functions import *\n",
        "from drive.MyDrive.common.layers import *\n",
        "from collections import OrderedDict\n",
        "from drive.MyDrive.common.gradient import *\n",
        "from drive.MyDrive.common.trainer import *"
      ],
      "metadata": {
        "id": "cfppw-buvbOz"
      },
      "execution_count": null,
      "outputs": []
    },
    {
      "cell_type": "code",
      "source": [
        "class Sigmoid: #import 해온 곳에 얘가 없어서 추가로 작성\n",
        "    def __init__(self):\n",
        "        self.out = None\n",
        "\n",
        "    def forward(self, x):\n",
        "        out = 1 / (1 + np.exp(-x))\n",
        "        self.out = out\n",
        "        return out\n",
        "\n",
        "    def backward(self, dout):\n",
        "        dx = dout * (1.0 - self.out) * self.out\n",
        "        return dx\n",
        "\n",
        "class MLP: #가중치 감소, 드롭아웃, 배치 정규화 구현 교재코드를 기초함\n",
        "    \"\"\"\n",
        "    Parameters\n",
        "    ----------\n",
        "    input_size : 입력 크기（MNIST의 경우엔 784）\n",
        "    hidden_size_list : 각 은닉층의 뉴런 수를 담은 리스트（e.g. [100, 100, 100]）\n",
        "    output_size : 출력 크기（MNIST의 경우엔 10）\n",
        "    activation : 활성화 함수 - 'relu' 혹은 'sigmoid'\n",
        "    weight_init_std : 가중치의 표준편차 지정（e.g. 0.01）\n",
        "        'relu'나 'he'로 지정하면 'He 초깃값'으로 설정\n",
        "        'sigmoid'나 'xavier'로 지정하면 'Xavier 초깃값'으로 설정\n",
        "    weight_decay_lambda : 가중치 감소(L2 법칙)의 세기\n",
        "    use_dropout : 드롭아웃 사용 여부\n",
        "    dropout_ration : 드롭아웃 비율\n",
        "    use_batchNorm : 배치 정규화 사용 여부\n",
        "    \"\"\"\n",
        "    def __init__(self, input_size, hidden_size_list, output_size,\n",
        "                 activation='relu', weight_init_std='relu', weight_decay_lambda=0,\n",
        "                 use_dropout = False, dropout_ration = 0.5, use_batchnorm=False):\n",
        "        self.input_size = input_size\n",
        "        self.output_size = output_size\n",
        "        self.hidden_size_list = hidden_size_list\n",
        "        self.hidden_layer_num = len(hidden_size_list)\n",
        "        self.use_dropout = use_dropout\n",
        "        self.weight_decay_lambda = weight_decay_lambda\n",
        "        self.use_batchnorm = use_batchnorm\n",
        "        self.params = {}\n",
        "\n",
        "        # 가중치 초기화\n",
        "        self.__init_weight(weight_init_std)\n",
        "\n",
        "        # 계층 생성\n",
        "        activation_layer = {'sigmoid': Sigmoid, 'relu': Relu}\n",
        "        self.layers = OrderedDict()\n",
        "        for idx in range(1, self.hidden_layer_num+1):\n",
        "            self.layers['Affine' + str(idx)] = Affine(self.params['W' + str(idx)],\n",
        "                                                      self.params['b' + str(idx)])\n",
        "            if self.use_batchnorm:\n",
        "                self.params['gamma' + str(idx)] = np.ones(hidden_size_list[idx-1])\n",
        "                self.params['beta' + str(idx)] = np.zeros(hidden_size_list[idx-1])\n",
        "                self.layers['BatchNorm' + str(idx)] = BatchNormalization(self.params['gamma' + str(idx)], self.params['beta' + str(idx)])\n",
        "\n",
        "            self.layers['Activation_function' + str(idx)] = activation_layer[activation]()\n",
        "\n",
        "            if self.use_dropout:\n",
        "                self.layers['Dropout' + str(idx)] = Dropout(dropout_ration)\n",
        "\n",
        "        idx = self.hidden_layer_num + 1\n",
        "        self.layers['Affine' + str(idx)] = Affine(self.params['W' + str(idx)], self.params['b' + str(idx)])\n",
        "\n",
        "        self.last_layer = SoftmaxWithLoss()\n",
        "\n",
        "    def __init_weight(self, weight_init_std):\n",
        "        \"\"\"가중치 초기화\n",
        "\n",
        "        Parameters\n",
        "        ----------\n",
        "        weight_init_std : 가중치의 표준편차 지정（e.g. 0.01）\n",
        "            'relu'나 'he'로 지정하면 'He 초깃값'으로 설정\n",
        "            'sigmoid'나 'xavier'로 지정하면 'Xavier 초깃값'으로 설정\n",
        "        \"\"\"\n",
        "        all_size_list = [self.input_size] + self.hidden_size_list + [self.output_size]\n",
        "        for idx in range(1, len(all_size_list)):\n",
        "            scale = weight_init_std\n",
        "            if str(weight_init_std).lower() in ('relu', 'he'):\n",
        "                scale = np.sqrt(2.0 / all_size_list[idx - 1])  # ReLUを使う場合に推奨される初期値\n",
        "            elif str(weight_init_std).lower() in ('sigmoid', 'xavier'):\n",
        "                scale = np.sqrt(1.0 / all_size_list[idx - 1])  # sigmoidを使う場合に推奨される初期値\n",
        "            self.params['W' + str(idx)] = scale * np.random.randn(all_size_list[idx-1], all_size_list[idx])\n",
        "            self.params['b' + str(idx)] = np.zeros(all_size_list[idx])\n",
        "\n",
        "    def predict(self, x, train_flg=False):\n",
        "        for key, layer in self.layers.items():\n",
        "            if \"Dropout\" in key or \"BatchNorm\" in key:\n",
        "                x = layer.forward(x, train_flg)\n",
        "            else:\n",
        "                x = layer.forward(x)\n",
        "\n",
        "        return x\n",
        "\n",
        "    def loss(self, x, t, train_flg=False):\n",
        "        \"\"\"손실 함수를 구한다.\n",
        "\n",
        "        Parameters\n",
        "        ----------\n",
        "        x : 입력 데이터\n",
        "        t : 정답 레이블\n",
        "        \"\"\"\n",
        "        y = self.predict(x, train_flg)\n",
        "\n",
        "        weight_decay = 0\n",
        "        for idx in range(1, self.hidden_layer_num + 2):\n",
        "            W = self.params['W' + str(idx)]\n",
        "            weight_decay += 0.5 * self.weight_decay_lambda * np.sum(W**2)\n",
        "\n",
        "        return self.last_layer.forward(y, t) + weight_decay\n",
        "\n",
        "    def accuracy(self, X, T):\n",
        "        Y = self.predict(X, train_flg=False)\n",
        "        Y = np.argmax(Y, axis=1)\n",
        "        if T.ndim != 1 : T = np.argmax(T, axis=1)\n",
        "\n",
        "        accuracy = np.sum(Y == T) / float(X.shape[0])\n",
        "        return accuracy\n",
        "\n",
        "    def numerical_gradient(self, X, T):\n",
        "        \"\"\"\n",
        "        Returns\n",
        "        -------\n",
        "        각 층의 기울기를 담은 사전(dictionary) 변수\n",
        "            grads['W1']、grads['W2']、... 각 층의 가중치\n",
        "            grads['b1']、grads['b2']、... 각 층의 편향\n",
        "        \"\"\"\n",
        "        loss_W = lambda W: self.loss(X, T, train_flg=True)\n",
        "\n",
        "        grads = {}\n",
        "        for idx in range(1, self.hidden_layer_num+2):\n",
        "            grads['W' + str(idx)] = numerical_gradient(loss_W, self.params['W' + str(idx)])\n",
        "            grads['b' + str(idx)] = numerical_gradient(loss_W, self.params['b' + str(idx)])\n",
        "\n",
        "            if self.use_batchnorm and idx != self.hidden_layer_num+1:\n",
        "                grads['gamma' + str(idx)] = numerical_gradient(loss_W, self.params['gamma' + str(idx)])\n",
        "                grads['beta' + str(idx)] = numerical_gradient(loss_W, self.params['beta' + str(idx)])\n",
        "\n",
        "        return grads\n",
        "\n",
        "    def gradient(self, x, t):\n",
        "        # forward\n",
        "        self.loss(x, t, train_flg=True)\n",
        "\n",
        "        # backward\n",
        "        dout = 1\n",
        "        dout = self.last_layer.backward(dout)\n",
        "\n",
        "        layers = list(self.layers.values())\n",
        "        layers.reverse()\n",
        "        for layer in layers:\n",
        "            dout = layer.backward(dout)\n",
        "\n",
        "        # 결과 저장\n",
        "        grads = {}\n",
        "        for idx in range(1, self.hidden_layer_num+2):\n",
        "            grads['W' + str(idx)] = self.layers['Affine' + str(idx)].dW + self.weight_decay_lambda * self.params['W' + str(idx)]\n",
        "            grads['b' + str(idx)] = self.layers['Affine' + str(idx)].db\n",
        "\n",
        "            if self.use_batchnorm and idx != self.hidden_layer_num+1:\n",
        "                grads['gamma' + str(idx)] = self.layers['BatchNorm' + str(idx)].dgamma\n",
        "                grads['beta' + str(idx)] = self.layers['BatchNorm' + str(idx)].dbeta\n",
        "\n",
        "        return grads"
      ],
      "metadata": {
        "id": "CFS3aJROvAw_"
      },
      "execution_count": null,
      "outputs": []
    },
    {
      "cell_type": "code",
      "source": [
        "#학습 시 전체데이터 안쓰는 방안도 있다고해서 구현은 해두었으나 성능이 좋은지는 모르겠어서 꺼놨습니다\n",
        "#x_train = x_train[:1000]\n",
        "#t_train = t_train[:1000]\n",
        "\n",
        "#하이퍼하라미터 수정존\n",
        "iters_num = 100_000\n",
        "batch_size = 100\n",
        "epochs = 10\n",
        "learning_rate = 0.002 # 0.01\n",
        "hidden_size_list = [169,100,50] #[100,100] [100,50,50]\n",
        "use_batchnorm = True\n",
        "use_dropout= True\n",
        "dropout_ratio = 0.3 # 0.2 ~ 0.5\n",
        "activation='relu' # 'sigmoid' #'relu'\n",
        "weight_init_std='he' #'xavier' #'he'\n",
        "\n",
        "network = MLP(input_size=784,\n",
        "                                  hidden_size_list=hidden_size_list,\n",
        "                                  output_size=10,\n",
        "                                  weight_init_std=weight_init_std,\n",
        "                                  activation=activation,\n",
        "                                use_batchnorm=use_batchnorm,\n",
        "                                use_dropout=use_dropout)\n",
        "optimizers = Adam(lr=learning_rate)\n",
        "\n",
        "train_size = x_train.shape[0]; train_loss_list = [] ; test_acc_list = [] ;train_acc_list = []\n",
        "iter_per_epoch = max(train_size / batch_size, 1) ; count = 0"
      ],
      "metadata": {
        "id": "GSOYL00hvEYB"
      },
      "execution_count": null,
      "outputs": []
    },
    {
      "cell_type": "code",
      "source": [
        "for i in range(iters_num):\n",
        "    #미니배치\n",
        "    batch_mask = np.random.choice(train_size, batch_size)\n",
        "\n",
        "    x_batch = x_train[batch_mask]\n",
        "    t_batch = t_train[batch_mask]\n",
        "\n",
        "    # 오차역전파\n",
        "    grad = network.gradient(x_batch, t_batch)\n",
        "\n",
        "    #매개변수 재조정\n",
        "    for key in ('W1', 'b1', 'W2', 'b2', 'W3', 'b3'):\n",
        "        network.params[key] -= learning_rate * grad[key]\n",
        "    #아담\n",
        "    optimizers.update(network.params, grad)\n",
        "\n",
        "\n",
        "    if count == epochs:\n",
        "        break\n",
        "\n",
        "    if i % iter_per_epoch == 0:\n",
        "        # Calculate training accuracy\n",
        "        train_acc = network.accuracy(x_train, t_train)\n",
        "        test_acc = network.accuracy(x_test, t_test)\n",
        "        train_acc_list.append(train_acc)\n",
        "        test_acc_list.append(test_acc)\n",
        "        loss = network.loss(x_train, t_train) #(x_batch, t_batch)\n",
        "        train_loss_list.append(loss)\n",
        "\n",
        "\n",
        "        print(f\"Epoch {int(i/iter_per_epoch)}, Loss: {loss:.2f}, Train Acc: {train_acc:.2%} ,Test Acc: {test_acc:.2%}\")\n",
        "        count = count + 1"
      ],
      "metadata": {
        "colab": {
          "base_uri": "https://localhost:8080/",
          "height": 263
        },
        "id": "7EPpAChEvLm9",
        "outputId": "ef7df2ca-2967-49df-eb73-fa48dc44f6fb"
      },
      "execution_count": null,
      "outputs": [
        {
          "output_type": "error",
          "ename": "IndexError",
          "evalue": "ignored",
          "traceback": [
            "\u001b[0;31m---------------------------------------------------------------------------\u001b[0m",
            "\u001b[0;31mIndexError\u001b[0m                                Traceback (most recent call last)",
            "\u001b[0;32m<ipython-input-27-1ddfb5fa67ab>\u001b[0m in \u001b[0;36m<cell line: 1>\u001b[0;34m()\u001b[0m\n\u001b[1;32m      3\u001b[0m     \u001b[0mbatch_mask\u001b[0m \u001b[0;34m=\u001b[0m \u001b[0mnp\u001b[0m\u001b[0;34m.\u001b[0m\u001b[0mrandom\u001b[0m\u001b[0;34m.\u001b[0m\u001b[0mchoice\u001b[0m\u001b[0;34m(\u001b[0m\u001b[0mtrain_size\u001b[0m\u001b[0;34m,\u001b[0m \u001b[0mbatch_size\u001b[0m\u001b[0;34m)\u001b[0m\u001b[0;34m\u001b[0m\u001b[0;34m\u001b[0m\u001b[0m\n\u001b[1;32m      4\u001b[0m \u001b[0;34m\u001b[0m\u001b[0m\n\u001b[0;32m----> 5\u001b[0;31m     \u001b[0mx_batch\u001b[0m \u001b[0;34m=\u001b[0m \u001b[0mx_train\u001b[0m\u001b[0;34m[\u001b[0m\u001b[0mbatch_mask\u001b[0m\u001b[0;34m]\u001b[0m\u001b[0;34m\u001b[0m\u001b[0;34m\u001b[0m\u001b[0m\n\u001b[0m\u001b[1;32m      6\u001b[0m     \u001b[0mt_batch\u001b[0m \u001b[0;34m=\u001b[0m \u001b[0mt_train\u001b[0m\u001b[0;34m[\u001b[0m\u001b[0mbatch_mask\u001b[0m\u001b[0;34m]\u001b[0m\u001b[0;34m\u001b[0m\u001b[0;34m\u001b[0m\u001b[0m\n\u001b[1;32m      7\u001b[0m \u001b[0;34m\u001b[0m\u001b[0m\n",
            "\u001b[0;31mIndexError\u001b[0m: index 59673 is out of bounds for axis 0 with size 48000"
          ]
        }
      ]
    },
    {
      "cell_type": "markdown",
      "source": [
        "**하이퍼파라미터 최적화**"
      ],
      "metadata": {
        "id": "zjxgEs04CwPU"
      }
    },
    {
      "cell_type": "code",
      "source": [
        "# 데이터셋 셔플\n",
        "#from util import shuffle_dataset\n",
        "#x_train, t_train = shuffle_dataset(x_train, t_train)\n",
        "\n",
        "# 20%를 검증 데이터로 분할\n",
        "validation_rate = 0.20 #1 2,000개\n",
        "validation_num = int(x_train.shape[0] * validation_rate)\n",
        "\n",
        "x_val = x_train[:validation_num]\n",
        "t_val = t_train[:validation_num]\n",
        "x_train = x_train[validation_num:]\n",
        "t_train = t_train[validation_num:]"
      ],
      "metadata": {
        "id": "VohOgmoDwExV"
      },
      "execution_count": null,
      "outputs": []
    },
    {
      "cell_type": "code",
      "source": [
        "x_train.shape\n"
      ],
      "metadata": {
        "id": "7wAFC0L0xqsS",
        "colab": {
          "base_uri": "https://localhost:8080/"
        },
        "outputId": "9f7581ea-174f-496b-e110-3c9cc7559f1b"
      },
      "execution_count": null,
      "outputs": [
        {
          "output_type": "execute_result",
          "data": {
            "text/plain": [
              "(48000, 28, 28)"
            ]
          },
          "metadata": {},
          "execution_count": 10
        }
      ]
    },
    {
      "cell_type": "code",
      "source": [
        "def __train(lr, weight_decay, epocs=10):\n",
        "    network = MLP(input_size=784,\n",
        "                                  hidden_size_list=hidden_size_list,\n",
        "                                  output_size=10,\n",
        "                                  weight_init_std=weight_decay,\n",
        "                                  activation='relu',\n",
        "                                use_batchnorm=True,\n",
        "                                use_dropout=False)\n",
        "    trainer = Trainer(network, x_train, t_train, x_val, t_val,\n",
        "                      epochs=epocs, mini_batch_size=200,\n",
        "                      optimizer='Adam',\n",
        "                      optimizer_param={'lr': lr}, verbose=False)\n",
        "    trainer.train()\n",
        "\n",
        "    return trainer.test_acc_list, trainer.train_acc_list\n",
        "\n",
        "\n",
        "# 하이퍼파라미터 무작위 탐색======================================\n",
        "optimization_trial = 20\n",
        "results_val = {}\n",
        "results_train = {}\n",
        "for _ in range(optimization_trial):\n",
        "    # 탐색한 하이퍼파라미터의 범위 지정===============\n",
        "    weight_decay = 10 ** np.random.uniform(-8, -4)\n",
        "    lr = 10 ** np.random.uniform(-6, -2)\n",
        "    # ================================================\n",
        "\n",
        "    val_acc_list, train_acc_list = __train(lr, weight_decay)\n",
        "    print(\"val acc:\" + str(val_acc_list[-1]) + \" | lr:\" + str(lr) + \", weight decay:\" + str(weight_decay))\n",
        "    key = \"lr:\" + str(lr) + \", weight decay:\" + str(weight_decay)\n",
        "    results_val[key] = val_acc_list\n",
        "    results_train[key] = train_acc_list\n",
        "\n",
        "# 그래프 그리기========================================================\n",
        "print(\"=========== Hyper-Parameter Optimization Result ===========\")\n",
        "graph_draw_num = 10\n",
        "col_num = 5\n",
        "row_num = int(np.ceil(graph_draw_num / col_num))\n",
        "i = 0\n",
        "\n",
        "for key, val_acc_list in sorted(results_val.items(), key=lambda x: x[1][-1], reverse=True):\n",
        "    print(\"Best-\" + str(i+1) + \"(val acc:\" + str(val_acc_list[-1]) + \") | \" + key)\n",
        "\n",
        "    plt.subplot(row_num, col_num, i+1)\n",
        "    plt.title(\"Best-\" + str(i+1))\n",
        "    plt.ylim(0.0, 1.0)\n",
        "    if i % 5:\n",
        "        plt.yticks([])\n",
        "    plt.xticks([])\n",
        "    x = np.arange(len(val_acc_list))\n",
        "    plt.plot(x, val_acc_list)\n",
        "    plt.plot(x, results_train[key], \"--\")\n",
        "    i += 1\n",
        "\n",
        "    if i >= graph_draw_num:\n",
        "        break\n",
        "\n",
        "plt.show()"
      ],
      "metadata": {
        "colab": {
          "base_uri": "https://localhost:8080/",
          "height": 1000
        },
        "id": "J3B_92PozP1U",
        "outputId": "ae6bce83-953c-4b24-933f-bb41fa7e10aa"
      },
      "execution_count": null,
      "outputs": [
        {
          "output_type": "stream",
          "name": "stdout",
          "text": [
            "val acc:0.8803333333333333 | lr:0.00025796064994617994, weight decay:7.100684695549126e-07\n",
            "val acc:0.37966666666666665 | lr:5.1822987319783086e-05, weight decay:1.1365611782159755e-07\n"
          ]
        },
        {
          "output_type": "stream",
          "name": "stderr",
          "text": [
            "/content/drive/MyDrive/common/functions.py:56: RuntimeWarning: divide by zero encountered in log\n",
            "  return -np.sum(np.log(y[np.arange(batch_size), t])) / batch_size\n"
          ]
        },
        {
          "output_type": "stream",
          "name": "stdout",
          "text": [
            "val acc:0.864 | lr:0.001751534256743907, weight decay:2.4470326793127286e-05\n",
            "val acc:0.8846666666666667 | lr:0.0003520184723504047, weight decay:3.0370613083898043e-05\n",
            "val acc:0.777 | lr:9.590635954649578e-05, weight decay:1.3654601543898521e-05\n",
            "val acc:0.29791666666666666 | lr:5.406484421223305e-06, weight decay:2.5963139248394404e-07\n",
            "val acc:0.8319166666666666 | lr:9.634625261056856e-05, weight decay:8.570129126076765e-06\n",
            "val acc:0.7556666666666667 | lr:0.00010792088980279768, weight decay:4.1800085076357665e-08\n",
            "val acc:0.8890833333333333 | lr:0.0022706988213727418, weight decay:3.2380381137344214e-07\n",
            "val acc:0.28258333333333335 | lr:1.5944595308520358e-06, weight decay:1.1634578993077017e-07\n",
            "val acc:0.2815 | lr:1.0431437170870948e-06, weight decay:1.953207489740739e-07\n",
            "val acc:0.8833333333333333 | lr:0.0011658593468595055, weight decay:2.882423834516296e-06\n",
            "val acc:0.8855 | lr:0.0005114654322066446, weight decay:6.91524328477542e-08\n",
            "val acc:0.5000833333333333 | lr:1.2450955040562686e-06, weight decay:5.424225567208674e-06\n",
            "val acc:0.8795833333333334 | lr:0.0014439287245386523, weight decay:1.1428611020835547e-06\n",
            "val acc:0.6350833333333333 | lr:5.783266097313761e-05, weight decay:2.2910069797656714e-06\n",
            "val acc:0.7078333333333333 | lr:0.00010592359671175779, weight decay:2.3041654825464376e-08\n",
            "val acc:0.5023333333333333 | lr:4.022714533209817e-05, weight decay:1.7035003543206005e-08\n",
            "val acc:0.8785833333333334 | lr:0.0019050221888299028, weight decay:9.920111869093349e-08\n",
            "val acc:0.3834166666666667 | lr:4.406463304505741e-05, weight decay:3.881423948818175e-08\n",
            "=========== Hyper-Parameter Optimization Result ===========\n",
            "Best-1(val acc:0.8890833333333333) | lr:0.0022706988213727418, weight decay:3.2380381137344214e-07\n",
            "Best-2(val acc:0.8855) | lr:0.0005114654322066446, weight decay:6.91524328477542e-08\n",
            "Best-3(val acc:0.8846666666666667) | lr:0.0003520184723504047, weight decay:3.0370613083898043e-05\n",
            "Best-4(val acc:0.8833333333333333) | lr:0.0011658593468595055, weight decay:2.882423834516296e-06\n",
            "Best-5(val acc:0.8803333333333333) | lr:0.00025796064994617994, weight decay:7.100684695549126e-07\n",
            "Best-6(val acc:0.8795833333333334) | lr:0.0014439287245386523, weight decay:1.1428611020835547e-06\n",
            "Best-7(val acc:0.8785833333333334) | lr:0.0019050221888299028, weight decay:9.920111869093349e-08\n",
            "Best-8(val acc:0.864) | lr:0.001751534256743907, weight decay:2.4470326793127286e-05\n",
            "Best-9(val acc:0.8319166666666666) | lr:9.634625261056856e-05, weight decay:8.570129126076765e-06\n",
            "Best-10(val acc:0.777) | lr:9.590635954649578e-05, weight decay:1.3654601543898521e-05\n"
          ]
        },
        {
          "output_type": "display_data",
          "data": {
            "text/plain": [
              "<Figure size 640x480 with 10 Axes>"
            ],
            "image/png": "[encoded data removed]"
          },
          "metadata": {}
        }
      ]
    },
    {
      "cell_type": "code",
      "source": [
        "# 구한 최적의 하이퍼파라미터 적용"
      ],
      "metadata": {
        "id": "ya3pjWlNcvWT"
      },
      "execution_count": null,
      "outputs": []
    },
    {
      "cell_type": "code",
      "source": [
        "#Best-1(val acc:0.8890833333333333) | lr:0.0022706988213727418, weight decay:3.2380381137344214e-07\n",
        "#Best-2(val acc:0.8855) | lr:0.0005114654322066446, weight decay:6.91524328477542e-08\n",
        "# val acc:0.852 | lr:0.001215906743865886, weight decay:4.1176003391955446e-08"
      ],
      "metadata": {
        "id": "1AAg9XvsCfxd"
      },
      "execution_count": null,
      "outputs": []
    },
    {
      "cell_type": "code",
      "source": [
        "(x_train, t_train), (x_test, t_test) = fashion_mnist.load_data()"
      ],
      "metadata": {
        "id": "Hzq-qRsucuPr"
      },
      "execution_count": null,
      "outputs": []
    },
    {
      "cell_type": "code",
      "source": [
        "iters_num = 10000\n",
        "batch_size = 200\n",
        "epochs = 30\n",
        "learning_rate = 0.001215906743865886\n",
        "hidden_size_list = [100,50,25] #[100,100] [100,50,50]\n",
        "use_batchnorm = True\n",
        "use_dropout= False\n",
        "dropout_ratio = 0.3 # 0.2 ~ 0.5\n",
        "activation='relu' # 'sigmoid' #'relu'\n",
        "weight_init_std=4.1176003391955446e-08\n",
        "\n",
        "network = MLP(input_size=784,\n",
        "                                  hidden_size_list=hidden_size_list,\n",
        "                                  output_size=10,\n",
        "                                  weight_init_std=weight_init_std,\n",
        "                                  activation=activation,\n",
        "                                use_batchnorm=use_batchnorm,\n",
        "                                use_dropout=use_dropout)\n",
        "optimizers = Adam(lr=learning_rate)\n",
        "\n",
        "train_size = x_train.shape[0]; train_loss_list = [] ; test_acc_list = [] ;train_acc_list = []\n",
        "iter_per_epoch = max(train_size / batch_size, 1) ; count = 0"
      ],
      "metadata": {
        "id": "e6PF-vjObL0O"
      },
      "execution_count": null,
      "outputs": []
    },
    {
      "cell_type": "code",
      "source": [
        "# val acc:0.852 | lr:0.001215906743865886, weight decay:4.1176003391955446e-08\n",
        "\n",
        "for i in range(iters_num):\n",
        "    #미니배치\n",
        "    batch_mask = np.random.choice(train_size, batch_size)\n",
        "\n",
        "    x_batch = x_train[batch_mask]\n",
        "    t_batch = t_train[batch_mask]\n",
        "\n",
        "    # 오차역전파\n",
        "    grad = network.gradient(x_batch, t_batch)\n",
        "\n",
        "    #매개변수 재조정\n",
        "    for key in ('W1', 'b1', 'W2', 'b2', 'W3', 'b3'):\n",
        "        network.params[key] -= learning_rate * grad[key]\n",
        "    #아담\n",
        "    optimizers.update(network.params, grad)\n",
        "\n",
        "    if i % iter_per_epoch == 0:\n",
        "        # Calculate training accuracy\n",
        "        train_acc = network.accuracy(x_train, t_train)\n",
        "        test_acc = network.accuracy(x_test, t_test)\n",
        "        train_acc_list.append(train_acc)\n",
        "        test_acc_list.append(test_acc)\n",
        "        loss = network.loss(x_batch, t_batch) #(x_batch, t_batch)\n",
        "        train_loss_list.append(loss)\n",
        "\n",
        "\n",
        "        print(f\"Epoch {int(i/iter_per_epoch)}, Loss: {loss:.2f}, Train Acc: {train_acc:.2%} ,Test Acc: {test_acc:.2%}\")\n",
        "        count += 1  # Increment count here\n",
        "\n",
        "        if count == epochs:\n",
        "            break"
      ],
      "metadata": {
        "id": "AbklI5Nc0H9y",
        "colab": {
          "base_uri": "https://localhost:8080/",
          "height": 263
        },
        "outputId": "b31431da-b6f4-482a-dfd9-2882b349c011"
      },
      "execution_count": 1,
      "outputs": [
        {
          "output_type": "error",
          "ename": "NameError",
          "evalue": "ignored",
          "traceback": [
            "\u001b[0;31m---------------------------------------------------------------------------\u001b[0m",
            "\u001b[0;31mNameError\u001b[0m                                 Traceback (most recent call last)",
            "\u001b[0;32m<ipython-input-1-a6677ab0cd52>\u001b[0m in \u001b[0;36m<cell line: 3>\u001b[0;34m()\u001b[0m\n\u001b[1;32m      1\u001b[0m \u001b[0;31m# val acc:0.852 | lr:0.001215906743865886, weight decay:4.1176003391955446e-08\u001b[0m\u001b[0;34m\u001b[0m\u001b[0;34m\u001b[0m\u001b[0m\n\u001b[1;32m      2\u001b[0m \u001b[0;34m\u001b[0m\u001b[0m\n\u001b[0;32m----> 3\u001b[0;31m \u001b[0;32mfor\u001b[0m \u001b[0mi\u001b[0m \u001b[0;32min\u001b[0m \u001b[0mrange\u001b[0m\u001b[0;34m(\u001b[0m\u001b[0miters_num\u001b[0m\u001b[0;34m)\u001b[0m\u001b[0;34m:\u001b[0m\u001b[0;34m\u001b[0m\u001b[0;34m\u001b[0m\u001b[0m\n\u001b[0m\u001b[1;32m      4\u001b[0m     \u001b[0;31m#미니배치\u001b[0m\u001b[0;34m\u001b[0m\u001b[0;34m\u001b[0m\u001b[0m\n\u001b[1;32m      5\u001b[0m     \u001b[0mbatch_mask\u001b[0m \u001b[0;34m=\u001b[0m \u001b[0mnp\u001b[0m\u001b[0;34m.\u001b[0m\u001b[0mrandom\u001b[0m\u001b[0;34m.\u001b[0m\u001b[0mchoice\u001b[0m\u001b[0;34m(\u001b[0m\u001b[0mtrain_size\u001b[0m\u001b[0;34m,\u001b[0m \u001b[0mbatch_size\u001b[0m\u001b[0;34m)\u001b[0m\u001b[0;34m\u001b[0m\u001b[0;34m\u001b[0m\u001b[0m\n",
            "\u001b[0;31mNameError\u001b[0m: name 'iters_num' is not defined"
          ]
        }
      ]
    },
    {
      "cell_type": "code",
      "source": [],
      "metadata": {
        "id": "FlWFvVMlbXbk"
      },
      "execution_count": null,
      "outputs": []
    }
  ]
}